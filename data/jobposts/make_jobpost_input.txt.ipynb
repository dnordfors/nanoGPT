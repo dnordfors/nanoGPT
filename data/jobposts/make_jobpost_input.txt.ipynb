{
 "cells": [
  {
   "cell_type": "code",
   "execution_count": 1,
   "id": "72d848a4-d596-473d-9bd2-3f6d5369926a",
   "metadata": {},
   "outputs": [],
   "source": [
    "import pandas as pd\n"
   ]
  },
  {
   "cell_type": "code",
   "execution_count": 29,
   "id": "6b24694c-81c9-430d-8a47-d638702aaeac",
   "metadata": {},
   "outputs": [
    {
     "data": {
      "text/plain": [
       "(19001, 24)"
      ]
     },
     "execution_count": 29,
     "metadata": {},
     "output_type": "execute_result"
    }
   ],
   "source": [
    "df = pd.read_csv('data job posts.csv')\n",
    "df.shape"
   ]
  },
  {
   "cell_type": "code",
   "execution_count": 30,
   "id": "dd364a08-3c88-4ba8-b2be-4256033707b1",
   "metadata": {},
   "outputs": [],
   "source": [
    "df_train=df[:15000]\n",
    "df_test=df[15000:]"
   ]
  },
  {
   "cell_type": "code",
   "execution_count": 31,
   "id": "d8f0667e-3314-4032-8962-04b1afaa8240",
   "metadata": {},
   "outputs": [],
   "source": [
    "job_ads = df_train.to_dict('records')\n",
    "\n",
    "with open('input.txt', 'w') as f:\n",
    "    for ad in job_ads:\n",
    "        f.write('>>>>>>> This is the next job post: ')\n",
    "        f.write(ad['jobpost'].replace('\\n', ' '))\n",
    "        # for key, value in ad.items():\n",
    "        #      if type(value)==str:\n",
    "        #         cleaned_value = value.replace('\\n', ' ')\n",
    "        #         f.write(f'{key}: {cleaned_value}')\n",
    "f.close()"
   ]
  },
  {
   "cell_type": "code",
   "execution_count": null,
   "id": "c95d8439-e564-42f1-b763-badfab66975c",
   "metadata": {},
   "outputs": [],
   "source": []
  }
 ],
 "metadata": {
  "kernelspec": {
   "display_name": "Python 3 (ipykernel)",
   "language": "python",
   "name": "python3"
  },
  "language_info": {
   "codemirror_mode": {
    "name": "ipython",
    "version": 3
   },
   "file_extension": ".py",
   "mimetype": "text/x-python",
   "name": "python",
   "nbconvert_exporter": "python",
   "pygments_lexer": "ipython3",
   "version": "3.10.12"
  }
 },
 "nbformat": 4,
 "nbformat_minor": 5
}
